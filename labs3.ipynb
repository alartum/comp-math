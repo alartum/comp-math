{
 "cells": [
  {
   "cell_type": "code",
   "execution_count": 1,
   "metadata": {},
   "outputs": [],
   "source": [
    "import numpy as np\n",
    "import sympy as sp\n",
    "import matplotlib.pyplot as plt"
   ]
  },
  {
   "cell_type": "markdown",
   "metadata": {},
   "source": [
    "# Belousov–Zhabotinsky reaction model\n",
    "\n",
    "[Belousov–Zhabotinsky reaction](https://en.wikipedia.org/wiki/Belousov%E2%80%93Zhabotinsky_reaction) can be described by the following system:\n",
    " $$\n",
    " \\begin{cases}\n",
    " \\frac{dx(t)}{dt} = A + x^2(t)y(t) - (B+1)x(t),\\;\\; 0 \\le t \\le 20\\\\\n",
    " \\frac{dy(t)}{dt} = Bx(t) - x^2(t)y(t)\\\\\n",
    " x(0) = 2 \\;\\;\\;  y(0) = 3\\\\\n",
    " A = 1 \\;\\;\\; B = 3\\\\\n",
    " \\end{cases}\n",
    " $$\n",
    " \n",
    " The following methods are used in comparison:\n",
    " * Backwards differention\n",
    "  $$\n",
    "  \\begin{cases}\n",
    "  \\frac{3u_{n+1} - 4u_n + u_{n-1}}{2\\tau} = G(t_{n+1}, u_{n+1})\\\\\n",
    "  u_0 = y(0)\\\\\n",
    "  u_1 = u_0 + \\tau G(\\tau, u_1)\n",
    "  \\end{cases}\n",
    "  $$\n",
    " * Euler explicit method\n",
    " $$\n",
    "  \\begin{cases}\n",
    "  \\frac{u_{n+1} - u_n}{\\tau} = G(t_{n}, u_{n})\\\\\n",
    "  u_0 = y(0)\n",
    "  \\end{cases}\n",
    " $$"
   ]
  },
  {
   "cell_type": "code",
   "execution_count": 11,
   "metadata": {},
   "outputs": [
    {
     "data": {
      "image/png": "[encoded data removed]",
      "text/plain": [
       "<Figure size 432x288 with 1 Axes>"
      ]
     },
     "metadata": {},
     "output_type": "display_data"
    }
   ],
   "source": [
    "# Conditions given\n",
    "A = 1\n",
    "B = 3\n",
    "u0 = [2, 3]\n",
    "left = 0\n",
    "right = 20\n",
    "N = int(1.5e2)\n",
    "\n",
    "x, y = sp.symbols('x y')\n",
    "u = sp.Matrix([x, y])\n",
    "\n",
    "G = sp.Matrix([A + x**2*y - (B+1)*x,\n",
    "               B*x - x**2*y])\n",
    "J = G.jacobian(u)\n",
    "\n",
    "J_sc = sp.lambdify((x, y), J, [{'ImmutableMatrix': np.array}, \"numpy\"])\n",
    "def J(u):\n",
    "    return J_sc(u[0], u[1])\n",
    "\n",
    "G_sc = sp.lambdify((x, y), G, [{'ImmutableMatrix': np.array}, \"numpy\"])\n",
    "def G(u):\n",
    "    return G_sc(u[0], u[1]).flatten()\n",
    "\n",
    "def Newton_solve(u0, G, J, eps = 1e-14, max_it = 20):\n",
    "    u = np.copy(u0)\n",
    "    \"\"\"\n",
    "    Newton solver of equations system: G(u) = 0\n",
    "    u -- initial approximation\n",
    "    G -- left-hand side function\n",
    "    J -- Jacobian of G\n",
    "    eps -- precision\n",
    "    max_it -- maximum number of iterations\n",
    "    \"\"\"\n",
    "    for it in range(max_it):\n",
    "        du = np.linalg.solve(J(u), -G(u))\n",
    "        u += du\n",
    "        if (np.linalg.norm(du) < eps): \n",
    "            break\n",
    "    \n",
    "    return u\n",
    "\n",
    "ts, h = np.linspace(left, right, N, retstep=True) \n",
    "us = np.empty((N, 2))\n",
    "us[0] = u0\n",
    "us[1] = Newton_solve(us[0], lambda x: x - us[0] - h*G(x),\n",
    "                            lambda x: np.eye(2) - h*J(x))\n",
    "\n",
    "for n in range(1, N-1):\n",
    "    # Backwards differential formula is used\n",
    "    us[n+1] = Newton_solve(us[n], lambda x: 3*x - 4*us[n] + us[n-1] - 2*h*G(x),\n",
    "                                 lambda x: 3*np.eye(2) - 2*h*J(x))\n",
    "\n",
    "us_euler = np.empty((N, 2))\n",
    "us_euler[0] = u0\n",
    "\n",
    "for n in range(N-1):\n",
    "    # euler explicit method\n",
    "    us_euler[n+1] = us_euler[n] + h*G(us_euler[n])  \n",
    "\n",
    "plt.plot(ts, us[:, 0])\n",
    "plt.plot(ts, us[:, 1])\n",
    "plt.plot(ts, us_euler[:, 0], linestyle='--', color='orangered')\n",
    "plt.grid()\n",
    "plt.axhline(y=0, color='k')\n",
    "plt.axvline(x=0, color='k')\n",
    "\n",
    "plt.show()"
   ]
  },
  {
   "cell_type": "markdown",
   "metadata": {},
   "source": [
    "# 1D Triangular well\n",
    "\n",
    "Potential is given by:\n",
    "$$\n",
    "U(x) = \n",
    "\\begin{cases}\n",
    "+\\infty, & x<0\\\\\n",
    "x, & x \\ge 0\n",
    "\\end{cases}\n",
    "$$\n",
    "\n",
    "Schrödinger equation can be written down as:\n",
    "\n",
    "$$\n",
    "-\\frac{1}{2}\\psi''(x) + x\\psi(x) = E\\psi(x)\n",
    "$$\n",
    "\n",
    "Boundary limits conditions:\n",
    "\n",
    "$$\n",
    "\\psi(0) = 0\\\\\n",
    "\\lim_{x \\to +\\infty} \\psi'(x) + \\sqrt{2x-2E}\\psi(x) = 0\n",
    "$$\n",
    "\n",
    "Can be reduced to following for simplification:\n",
    "$$\n",
    "\\begin{cases}\n",
    "-\\frac{1}{2}\\psi''(x) + x\\psi(x) = E\\psi(x)\\\\\n",
    "\\psi(0) = 0 \\quad \\quad \\psi'(L) + \\sqrt{2L-2E}\\psi(L) = 0\n",
    "\\end{cases}\n",
    "$$\n",
    "\n",
    "What is the minimum possible $E$ necessary for the existence of non-trivial solution?"
   ]
  },
  {
   "cell_type": "markdown",
   "metadata": {},
   "source": [
    "Let's remove the $\\psi(0) = 0$ condition and replace it with $\\psi(L)=1$. For every eigen-function $y_0(x) \\;\\; Cy_0(x)$ is also an eigen-function, thus we are not losing any solutions by this assumption. Let $y_0(0)=A(E)$, so we can consider $y_0(0)$ as function of $E$ for every $E$. Now we are interested in those $E$ which imply $y_0(0) = 0$, so we have left boundary condition fulfilled. "
   ]
  },
  {
   "cell_type": "code",
   "execution_count": 46,
   "metadata": {},
   "outputs": [
    {
     "data": {
      "image/png": "[encoded data removed]",
      "text/plain": [
       "<Figure size 432x288 with 1 Axes>"
      ]
     },
     "metadata": {},
     "output_type": "display_data"
    }
   ],
   "source": [
    "from scipy.linalg import solve_banded\n",
    "\n",
    "N = 10**3\n",
    "L = 5\n",
    "xs, h = np.linspace(0, L, N, retstep=True)\n",
    "E = 1.8557541037780465\n",
    "\n",
    "ab = np.empty((3, N))\n",
    "ab[0] = np.ones(N)\n",
    "ab[1, -1] = 2*(1+h*(2*L-2*E)**0.5)\n",
    "ab[1, 1:-1] = np.array([-2*(1-h**2*(E-m*h)) for m in range(1, N-1)], dtype=float)\n",
    "ab[2] = np.ones(N)\n",
    "ab[2, -2] = 2*(1-h**2*(E-(N-2)*h)) - 4\n",
    "\n",
    "b = np.zeros(N)\n",
    "b[-1] = 1\n",
    "\n",
    "ys = solve_banded((0, 2), ab, b)\n",
    "plt.plot(xs, ys/np.sqrt(sum(ys**2)*h))\n",
    "plt.plot(xs, xs, color='k')\n",
    "plt.axvline(x=0, color='k')\n",
    "plt.grid()\n",
    "plt.show()"
   ]
  },
  {
   "cell_type": "markdown",
   "metadata": {},
   "source": [
    "Plot of the solution for lowest energy level. "
   ]
  },
  {
   "cell_type": "code",
   "execution_count": 47,
   "metadata": {
    "scrolled": true
   },
   "outputs": [
    {
     "data": {
      "image/png": "[encoded data removed]",
      "text/plain": [
       "<Figure size 432x288 with 1 Axes>"
      ]
     },
     "metadata": {},
     "output_type": "display_data"
    }
   ],
   "source": [
    "def left_value(E, L=5, N=10**3):\n",
    "    xs, h = np.linspace(0, L, N, retstep=True)\n",
    "\n",
    "    ab = np.empty((3, N))\n",
    "    ab[0] = np.ones(N)\n",
    "    ab[1, -1] = 2*(1+h*(2*L-2*E)**0.5)\n",
    "    ab[1, 1:-1] = np.array([-2*(1-h**2*(E-m*h)) for m in range(1, N-1)], dtype=float)\n",
    "    ab[2] = np.ones(N)\n",
    "    ab[2, -2] = 2*(1-h**2*(E-(N-2)*h)) - 4\n",
    "\n",
    "    b = np.zeros(N)\n",
    "    b[-1] = 1\n",
    "\n",
    "    ys = solve_banded((0, 2), ab, b)\n",
    "    \n",
    "    return ys[0]\n",
    "\n",
    "nE = 100\n",
    "l = 1.8\n",
    "r = 5\n",
    "Es = np.linspace(l, r, nE)\n",
    "ls = [left_value(Es[n]) for n in range(nE)]\n",
    "\n",
    "plt.plot(Es, ls)\n",
    "plt.axhline(y=0, color='k')\n",
    "plt.grid()\n",
    "plt.show()"
   ]
  },
  {
   "cell_type": "markdown",
   "metadata": {},
   "source": [
    "From the plot it follows that $E_0 \\in [1.8, 2]$. Thus we only need to find the root of the $A(E)$ function."
   ]
  },
  {
   "cell_type": "code",
   "execution_count": 49,
   "metadata": {},
   "outputs": [
    {
     "name": "stdout",
     "output_type": "stream",
     "text": [
      "Lowest energy level: 1.8557541037780465\n"
     ]
    }
   ],
   "source": [
    "from scipy.optimize import brentq\n",
    "\n",
    "E0 = brentq(left_value, 1.8, 2)\n",
    "print(\"Lowest energy level:\", E0)"
   ]
  }
 ],
 "metadata": {
  "kernelspec": {
   "display_name": "Python 3",
   "language": "python",
   "name": "python3"
  },
  "language_info": {
   "codemirror_mode": {
    "name": "ipython",
    "version": 3
   },
   "file_extension": ".py",
   "mimetype": "text/x-python",
   "name": "python",
   "nbconvert_exporter": "python",
   "pygments_lexer": "ipython3",
   "version": "3.6.4"
  },
  "toc": {
   "nav_menu": {},
   "number_sections": true,
   "sideBar": true,
   "skip_h1_title": false,
   "title_cell": "Table of Contents",
   "title_sidebar": "Contents",
   "toc_cell": false,
   "toc_position": {},
   "toc_section_display": true,
   "toc_window_display": false
  },
  "varInspector": {
   "cols": {
    "lenName": 16,
    "lenType": 16,
    "lenVar": 40
   },
   "kernels_config": {
    "python": {
     "delete_cmd_postfix": "",
     "delete_cmd_prefix": "del ",
     "library": "var_list.py",
     "varRefreshCmd": "print(var_dic_list())"
    },
    "r": {
     "delete_cmd_postfix": ") ",
     "delete_cmd_prefix": "rm(",
     "library": "var_list.r",
     "varRefreshCmd": "cat(var_dic_list()) "
    }
   },
   "types_to_exclude": [
    "module",
    "function",
    "builtin_function_or_method",
    "instance",
    "_Feature"
   ],
   "window_display": false
  }
 },
 "nbformat": 4,
 "nbformat_minor": 2
}
