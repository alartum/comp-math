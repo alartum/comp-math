{
 "cells": [
  {
   "cell_type": "markdown",
   "metadata": {},
   "source": [
    "# Homogeneous one-dimensional heat equation\n",
    "\n",
    "## Formulation\n",
    "\n",
    "$$\n",
    "\\begin{cases}\n",
    "\\frac{\\partial u}{\\partial t} =  k \\frac{\\partial^2 u}{\\partial x^2}\\\\\n",
    "u(x, 0) = u_0 \\\\\n",
    "u(0, t) = u(l, t) = 0\n",
    "\\end{cases}\n",
    "$$\n",
    "\n",
    "## Numerical solution\n",
    "\n",
    "$$\\begin{cases}\n",
    "\\frac{u_i^{n+1} - u_i^{n}}{\\tau} = k \\frac{u_{i+1}^n - 2 u_{i}^n + u_{i-1}^n}{h^2}\\\\\n",
    "u_i^0 = u_0,\\; i = \\overline{1, N-1}\\\\\n",
    "u_0^j = u_N^j = 0, \\; j = \\overline{0, M}\n",
    "\\end{cases}$$\n",
    "\n",
    "## Precise solution\n",
    "\n",
    "$$\n",
    "u(x, t) = \\frac{4u_0}{\\pi} \\sum_{m=0}^{\\infty}\\frac{\\exp\\left(-k\\pi^2(2m+1)^2\\frac{t}{l^2}\\right)}{2m+1}\\sin\\left(\\frac{\\pi(2m+1)x}{l}\\right)\n",
    "$$"
   ]
  },
  {
   "cell_type": "code",
   "execution_count": 1,
   "metadata": {},
   "outputs": [
    {
     "data": {
      "image/png": "[encoded data removed]",
      "text/plain": [
       "<Figure size 612x468 with 1 Axes>"
      ]
     },
     "metadata": {},
     "output_type": "display_data"
    }
   ],
   "source": [
    "import numpy as np\n",
    "import matplotlib.pyplot as plt\n",
    "\n",
    "def u_0(x):\n",
    "    return 1.\n",
    "\n",
    "def u_precise(k, l, t, xs, eps):\n",
    "    u = np.zeros_like(xs)\n",
    "    du = np.zeros_like(xs)\n",
    "    du[0] = 2*eps\n",
    "    m = 0\n",
    "    while np.abs(np.max(du)) > eps:\n",
    "        du = 4/np.pi * np.exp(-k*np.pi**2*(2*m+1)**2*t/l**2) / (2*m+1) \\\n",
    "                     * np.sin(np.pi*(2*m+1)*xs / l)\n",
    "        m += 1\n",
    "        u += du\n",
    "    return u\n",
    "T = 1e-2\n",
    "l = 1\n",
    "k = 1\n",
    "num = 50\n",
    "h = l / num\n",
    "dt = 2e-4\n",
    "\n",
    "fig = plt.figure(figsize=(8.5, 6.5))\n",
    "ax = fig.add_subplot(111)\n",
    "ax.set_title(r'Temperature depending on time')\n",
    "ax.set_xlabel('x')\n",
    "ax.set_ylabel('Temperature')\n",
    "\n",
    "xs = np.arange(0, l + h/2, h)\n",
    "u = np.zeros(len(xs))\n",
    "u[1:-1] = u_0(xs[1:-1])\n",
    "u[0] = u[-1] = 0\n",
    "\n",
    "A = -2 * np.diag(np.ones(len(xs))) + np.diag(np.ones(len(xs)-1), 1) \\\n",
    "                              + np.diag(np.ones(len(xs)-1), -1)\n",
    "A *= k * dt / h**2\n",
    "A[0, 0] = 0\n",
    "A[0, 1] = 0\n",
    "A[-1, -1] = 0\n",
    "A[-1, -2] = 0\n",
    "A += np.eye(A.shape[0])\n",
    "dt = min(dt, h**2/k)\n",
    "t = 0\n",
    "while t < T + dt/2:\n",
    "    # ax.plot(xs, u, label=f't={t:g}')\n",
    "    u = np.dot(A, u)\n",
    "    t += dt\n",
    "ax.plot(xs, u, label='Numerical solution')\n",
    "u_pr = u_precise(k, l, T, xs, 1e-3)\n",
    "ax.plot(xs, u_pr, label='Precise solution')\n",
    "\n",
    "ax.legend()\n",
    "ax.grid()\n",
    "\n",
    "plt.tight_layout()\n",
    "plt.show()"
   ]
  },
  {
   "cell_type": "code",
   "execution_count": null,
   "metadata": {},
   "outputs": [],
   "source": [
    "from matplotlib.animation import FuncAnimation\n",
    "plt.rcParams[\"animation.html\"] = \"html5\"\n",
    "\n",
    "class DrawGraph(object):\n",
    "    def __init__(self, ax, T, l, k, h, dt, u_0):\n",
    "        self.T = T\n",
    "        self.l = l\n",
    "        self.k = k\n",
    "        self.h = h\n",
    "        self.dt = dt\n",
    "        self.xs = np.arange(0, l + h/2, h)\n",
    "        self.ax = ax\n",
    "\n",
    "        self.u = np.zeros(len(self.xs))\n",
    "        self.u[1:-1] = u_0(self.xs[1:-1])\n",
    "        self.u[0] = self.u[-1] = 0\n",
    "\n",
    "        self.A = -2 * np.diag(np.ones(len(self.xs))) \\\n",
    "                    + np.diag(np.ones(len(self.xs)-1), 1) \\\n",
    "                    + np.diag(np.ones(len(self.xs)-1), -1)\n",
    "        \n",
    "        self.dt = min(self.dt, self.h**2/self.k * 0.99)\n",
    "        self.A *= self.k * self.dt / self.h**2\n",
    "        self.A[0, 0] = 0\n",
    "        self.A[0, 1] = 0\n",
    "        self.A[-1, -1] = 0\n",
    "        self.A[-1, -2] = 0\n",
    "        self.A += np.eye(self.A.shape[0])\n",
    "        \n",
    "        self.line, = ax.plot(self.xs, self.u, 'r-')\n",
    "        self.precise,  = ax.plot(self.xs, \\\n",
    "                                 u_precise(self.k, self.l, 0, self.xs, 1e-3),\\\n",
    "                                 'g-')\n",
    "        \n",
    "        # Set up plot parameters\n",
    "        self.ax.set_xlim(0, l)\n",
    "        self.ax.set_ylim(0, 1)\n",
    "        self.ax.grid(True)\n",
    "\n",
    "    def init(self):\n",
    "        self.line.set_data([], [])\n",
    "        self.precise.set_data([], [])\n",
    "        return self.line, self.precise\n",
    "\n",
    "    def __call__(self, i):\n",
    "        if i == 0:\n",
    "            return self.init()\n",
    "        \n",
    "        self.u = np.dot(self.A, self.u)\n",
    "        self.line.set_data(self.xs, self.u)\n",
    "        self.precise.set_data(self.xs, u_precise(self.k, self.l, i, self.xs, 1e-3))\n",
    "        return self.line, self.precise\n",
    "\n",
    "fig, ax = plt.subplots()\n",
    "ax.set_title(r'Temperature depending on time')\n",
    "ax.set_xlabel('x')\n",
    "ax.set_ylabel('Temperature')\n",
    "T = 1e-1\n",
    "l = 1\n",
    "k = 1\n",
    "h = 2e-2\n",
    "dt = 2e-4\n",
    "dg = DrawGraph(ax, T, l, k, h, dt, u_0)\n",
    "anim = FuncAnimation(fig, dg, frames=np.arange(0, T + dt/2, dt), init_func=dg.init,\n",
    "                     interval=50, blit=True)"
   ]
  },
  {
   "cell_type": "code",
   "execution_count": null,
   "metadata": {},
   "outputs": [],
   "source": [
    "anim"
   ]
  }
 ],
 "metadata": {
  "kernelspec": {
   "display_name": "Python 3",
   "language": "python",
   "name": "python3"
  },
  "language_info": {
   "codemirror_mode": {
    "name": "ipython",
    "version": 3
   },
   "file_extension": ".py",
   "mimetype": "text/x-python",
   "name": "python",
   "nbconvert_exporter": "python",
   "pygments_lexer": "ipython3",
   "version": "3.6.4"
  },
  "latex_envs": {
   "LaTeX_envs_menu_present": true,
   "autocomplete": true,
   "bibliofile": "biblio.bib",
   "cite_by": "apalike",
   "current_citInitial": 1,
   "eqLabelWithNumbers": true,
   "eqNumInitial": 1,
   "hotkeys": {
    "equation": "Ctrl-E",
    "itemize": "Ctrl-I"
   },
   "labels_anchors": false,
   "latex_user_defs": false,
   "report_style_numbering": false,
   "user_envs_cfg": false
  },
  "toc": {
   "nav_menu": {},
   "number_sections": true,
   "sideBar": true,
   "skip_h1_title": false,
   "title_cell": "Table of Contents",
   "title_sidebar": "Contents",
   "toc_cell": false,
   "toc_position": {},
   "toc_section_display": true,
   "toc_window_display": false
  },
  "varInspector": {
   "cols": {
    "lenName": 16,
    "lenType": 16,
    "lenVar": 40
   },
   "kernels_config": {
    "python": {
     "delete_cmd_postfix": "",
     "delete_cmd_prefix": "del ",
     "library": "var_list.py",
     "varRefreshCmd": "print(var_dic_list())"
    },
    "r": {
     "delete_cmd_postfix": ") ",
     "delete_cmd_prefix": "rm(",
     "library": "var_list.r",
     "varRefreshCmd": "cat(var_dic_list()) "
    }
   },
   "position": {
    "height": "468px",
    "left": "1012px",
    "right": "21px",
    "top": "116px",
    "width": "333px"
   },
   "types_to_exclude": [
    "module",
    "function",
    "builtin_function_or_method",
    "instance",
    "_Feature"
   ],
   "window_display": false
  }
 },
 "nbformat": 4,
 "nbformat_minor": 2
}
